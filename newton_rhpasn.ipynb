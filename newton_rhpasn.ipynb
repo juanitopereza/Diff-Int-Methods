{
 "cells": [
  {
   "cell_type": "code",
   "execution_count": 11,
   "metadata": {
    "collapsed": true
   },
   "outputs": [],
   "source": [
    "import numpy as np\n",
    "import matplotlib.pyplot as plt"
   ]
  },
  {
   "cell_type": "code",
   "execution_count": 12,
   "metadata": {
    "collapsed": true
   },
   "outputs": [],
   "source": [
    "def mi_fun(x):\n",
    "    return 6+5*x-2*x**2-x**3"
   ]
  },
  {
   "cell_type": "code",
   "execution_count": 13,
   "metadata": {
    "collapsed": true
   },
   "outputs": [],
   "source": [
    "def f_prima(f,c,h):\n",
    "    return (f(c+h) - f(c-h))/(2.0*h)"
   ]
  },
  {
   "cell_type": "markdown",
   "metadata": {},
   "source": [
    "### Buscamos más o menos en dónde quedan los ceros por tanteo del cambio de signo"
   ]
  },
  {
   "cell_type": "code",
   "execution_count": 14,
   "metadata": {
    "collapsed": true
   },
   "outputs": [],
   "source": [
    "a = -5\n",
    "b = 5\n",
    "\n",
    "dx = 0.1\n",
    "x = a\n",
    "sgn = mi_fun(x) > 0\n",
    "\n",
    "ceros = []\n",
    "while x < b:\n",
    "    if mi_fun(x) == 0:\n",
    "        ceros.append(x)\n",
    "    else:\n",
    "        if((mi_fun(x) > 0) != sgn):\n",
    "            ceros.append(x)\n",
    "    sgn = mi_fun(x) > 0\n",
    "    x += dx\n",
    "            "
   ]
  },
  {
   "cell_type": "markdown",
   "metadata": {},
   "source": [
    "### Refinamos usando Newton-Rhapson"
   ]
  },
  {
   "cell_type": "code",
   "execution_count": 24,
   "metadata": {
    "collapsed": true
   },
   "outputs": [],
   "source": [
    "tol = 1E-6\n",
    "\n",
    "los_ceros = np.array([])\n",
    "for cero in ceros:\n",
    "    c = cero - mi_fun(cero)/f_prima(mi_fun,cero,0.0001)\n",
    "    while abs(mi_fun(c)) > tol:\n",
    "        c = c - mi_fun(c)/f_prima(mi_fun,c,0.0001)\n",
    "    los_ceros = np.append(los_ceros,c)"
   ]
  },
  {
   "cell_type": "code",
   "execution_count": 25,
   "metadata": {},
   "outputs": [
    {
     "data": {
      "text/plain": [
       "array([-3., -1.,  2.])"
      ]
     },
     "execution_count": 25,
     "metadata": {},
     "output_type": "execute_result"
    }
   ],
   "source": [
    "los_ceros"
   ]
  },
  {
   "cell_type": "code",
   "execution_count": 26,
   "metadata": {},
   "outputs": [
    {
     "data": {
      "text/plain": [
       "(-10, 10)"
      ]
     },
     "execution_count": 26,
     "metadata": {},
     "output_type": "execute_result"
    },
    {
     "data": {
      "image/png": "[encoded data removed]",
      "text/plain": [
       "<Figure size 432x288 with 1 Axes>"
      ]
     },
     "metadata": {
      "needs_background": "light"
     },
     "output_type": "display_data"
    }
   ],
   "source": [
    "x = np.linspace(-5,5,1000)\n",
    "plt.plot(x,mi_fun(x))\n",
    "plt.scatter(los_ceros,mi_fun(los_ceros), c='r')\n",
    "plt.xlim(-3.5,3.5)\n",
    "plt.ylim(-10,10)"
   ]
  },
  {
   "cell_type": "code",
   "execution_count": null,
   "metadata": {
    "collapsed": true
   },
   "outputs": [],
   "source": []
  }
 ],
 "metadata": {
  "kernelspec": {
   "display_name": "Python 3",
   "language": "python",
   "name": "python3"
  },
  "language_info": {
   "codemirror_mode": {
    "name": "ipython",
    "version": 2
   },
   "file_extension": ".py",
   "mimetype": "text/x-python",
   "name": "python",
   "nbconvert_exporter": "python",
   "pygments_lexer": "ipython2",
   "version": "2.7.13"
  }
 },
 "nbformat": 4,
 "nbformat_minor": 2
}
